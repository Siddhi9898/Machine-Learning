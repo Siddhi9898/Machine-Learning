{
 "cells": [
  {
   "cell_type": "code",
   "execution_count": 11,
   "id": "1d87cbce",
   "metadata": {},
   "outputs": [
    {
     "name": "stdout",
     "output_type": "stream",
     "text": [
      "Collecting numpy<2.0\n",
      "  Downloading numpy-1.26.4.tar.gz (15.8 MB)\n",
      "     ---------------------------------------- 0.0/15.8 MB ? eta -:--:--\n",
      "     --- ------------------------------------ 1.3/15.8 MB 6.4 MB/s eta 0:00:03\n",
      "     ----- ---------------------------------- 2.4/15.8 MB 5.8 MB/s eta 0:00:03\n",
      "     --------- ------------------------------ 3.9/15.8 MB 6.3 MB/s eta 0:00:02\n",
      "     ------------- -------------------------- 5.5/15.8 MB 6.5 MB/s eta 0:00:02\n",
      "     ----------------- ---------------------- 7.1/15.8 MB 6.6 MB/s eta 0:00:02\n",
      "     ---------------------- ----------------- 8.9/15.8 MB 7.0 MB/s eta 0:00:01\n",
      "     ------------------------- -------------- 10.0/15.8 MB 6.7 MB/s eta 0:00:01\n",
      "     ---------------------------- ----------- 11.3/15.8 MB 6.5 MB/s eta 0:00:01\n",
      "     -------------------------------- ------- 12.8/15.8 MB 6.7 MB/s eta 0:00:01\n",
      "     -------------------------------------- - 15.2/15.8 MB 7.1 MB/s eta 0:00:01\n",
      "     ---------------------------------------- 15.8/15.8 MB 7.0 MB/s  0:00:02\n",
      "  Installing build dependencies: started\n",
      "  Installing build dependencies: finished with status 'done'\n",
      "  Getting requirements to build wheel: started\n",
      "  Getting requirements to build wheel: finished with status 'done'\n",
      "  Installing backend dependencies: started\n",
      "  Installing backend dependencies: finished with status 'done'\n",
      "  Preparing metadata (pyproject.toml): started\n",
      "  Preparing metadata (pyproject.toml): finished with status 'error'\n",
      "Note: you may need to restart the kernel to use updated packages.\n"
     ]
    },
    {
     "name": "stderr",
     "output_type": "stream",
     "text": [
      "  error: subprocess-exited-with-error\n",
      "  \n",
      "  × Preparing metadata (pyproject.toml) did not run successfully.\n",
      "  │ exit code: 1\n",
      "  ╰─> [21 lines of output]\n",
      "      + c:\\Users\\Ruchika Bhingare\\AppData\\Local\\Programs\\Python\\Python313\\python.exe C:\\Users\\Ruchika Bhingare\\AppData\\Local\\Temp\\pip-install-ue1rr500\\numpy_0cd7e5614fb14213be1d1023fe418a15\\vendored-meson\\meson\\meson.py setup C:\\Users\\Ruchika Bhingare\\AppData\\Local\\Temp\\pip-install-ue1rr500\\numpy_0cd7e5614fb14213be1d1023fe418a15 C:\\Users\\Ruchika Bhingare\\AppData\\Local\\Temp\\pip-install-ue1rr500\\numpy_0cd7e5614fb14213be1d1023fe418a15\\.mesonpy-mmkewdpv -Dbuildtype=release -Db_ndebug=if-release -Db_vscrt=md --native-file=C:\\Users\\Ruchika Bhingare\\AppData\\Local\\Temp\\pip-install-ue1rr500\\numpy_0cd7e5614fb14213be1d1023fe418a15\\.mesonpy-mmkewdpv\\meson-python-native-file.ini\n",
      "      The Meson build system\n",
      "      Version: 1.2.99\n",
      "      Source dir: C:\\Users\\Ruchika Bhingare\\AppData\\Local\\Temp\\pip-install-ue1rr500\\numpy_0cd7e5614fb14213be1d1023fe418a15\n",
      "      Build dir: C:\\Users\\Ruchika Bhingare\\AppData\\Local\\Temp\\pip-install-ue1rr500\\numpy_0cd7e5614fb14213be1d1023fe418a15\\.mesonpy-mmkewdpv\n",
      "      Build type: native build\n",
      "      Project name: NumPy\n",
      "      Project version: 1.26.4\n",
      "      WARNING: Failed to activate VS environment: Could not find C:\\Program Files (x86)\\Microsoft Visual Studio\\Installer\\vswhere.exe\n",
      "      \n",
      "      ..\\meson.build:1:0: ERROR: Unknown compiler(s): [['icl'], ['cl'], ['cc'], ['gcc'], ['clang'], ['clang-cl'], ['pgcc']]\n",
      "      The following exception(s) were encountered:\n",
      "      Running `icl \"\"` gave \"[WinError 2] The system cannot find the file specified\"\n",
      "      Running `cl /?` gave \"[WinError 2] The system cannot find the file specified\"\n",
      "      Running `cc --version` gave \"[WinError 2] The system cannot find the file specified\"\n",
      "      Running `gcc --version` gave \"[WinError 2] The system cannot find the file specified\"\n",
      "      Running `clang --version` gave \"[WinError 2] The system cannot find the file specified\"\n",
      "      Running `clang-cl /?` gave \"[WinError 2] The system cannot find the file specified\"\n",
      "      Running `pgcc --version` gave \"[WinError 2] The system cannot find the file specified\"\n",
      "      \n",
      "      A full log can be found at C:\\Users\\Ruchika Bhingare\\AppData\\Local\\Temp\\pip-install-ue1rr500\\numpy_0cd7e5614fb14213be1d1023fe418a15\\.mesonpy-mmkewdpv\\meson-logs\\meson-log.txt\n",
      "      [end of output]\n",
      "  \n",
      "  note: This error originates from a subprocess, and is likely not a problem with pip.\n",
      "error: metadata-generation-failed\n",
      "\n",
      "× Encountered error while generating package metadata.\n",
      "╰─> See above for output.\n",
      "\n",
      "note: This is an issue with the package mentioned above, not pip.\n",
      "hint: See above for details.\n"
     ]
    }
   ],
   "source": [
    "pip install \"numpy<2.0\""
   ]
  },
  {
   "cell_type": "code",
   "execution_count": 16,
   "id": "5ac2c07b",
   "metadata": {},
   "outputs": [],
   "source": [
    "import numpy as np\n",
    "import pandas as pd\n",
    "import matplotlib.pyplot as plt\n",
    "from sklearn.datasets import make_blobs\n",
    "\n"
   ]
  },
  {
   "cell_type": "code",
   "execution_count": 22,
   "id": "3f156188",
   "metadata": {},
   "outputs": [
    {
     "data": {
      "text/html": [
       "<div>\n",
       "<style scoped>\n",
       "    .dataframe tbody tr th:only-of-type {\n",
       "        vertical-align: middle;\n",
       "    }\n",
       "\n",
       "    .dataframe tbody tr th {\n",
       "        vertical-align: top;\n",
       "    }\n",
       "\n",
       "    .dataframe thead th {\n",
       "        text-align: right;\n",
       "    }\n",
       "</style>\n",
       "<table border=\"1\" class=\"dataframe\">\n",
       "  <thead>\n",
       "    <tr style=\"text-align: right;\">\n",
       "      <th></th>\n",
       "      <th>CustomerID</th>\n",
       "      <th>Gender</th>\n",
       "      <th>Age</th>\n",
       "      <th>Annual Income (k$)</th>\n",
       "      <th>Spending Score (1-100)</th>\n",
       "    </tr>\n",
       "  </thead>\n",
       "  <tbody>\n",
       "    <tr>\n",
       "      <th>0</th>\n",
       "      <td>1</td>\n",
       "      <td>Male</td>\n",
       "      <td>19</td>\n",
       "      <td>15</td>\n",
       "      <td>39</td>\n",
       "    </tr>\n",
       "    <tr>\n",
       "      <th>1</th>\n",
       "      <td>2</td>\n",
       "      <td>Male</td>\n",
       "      <td>21</td>\n",
       "      <td>15</td>\n",
       "      <td>81</td>\n",
       "    </tr>\n",
       "    <tr>\n",
       "      <th>2</th>\n",
       "      <td>3</td>\n",
       "      <td>Female</td>\n",
       "      <td>20</td>\n",
       "      <td>16</td>\n",
       "      <td>6</td>\n",
       "    </tr>\n",
       "    <tr>\n",
       "      <th>3</th>\n",
       "      <td>4</td>\n",
       "      <td>Female</td>\n",
       "      <td>23</td>\n",
       "      <td>16</td>\n",
       "      <td>77</td>\n",
       "    </tr>\n",
       "    <tr>\n",
       "      <th>4</th>\n",
       "      <td>5</td>\n",
       "      <td>Female</td>\n",
       "      <td>31</td>\n",
       "      <td>17</td>\n",
       "      <td>40</td>\n",
       "    </tr>\n",
       "  </tbody>\n",
       "</table>\n",
       "</div>"
      ],
      "text/plain": [
       "   CustomerID  Gender  Age  Annual Income (k$)  Spending Score (1-100)\n",
       "0           1    Male   19                  15                      39\n",
       "1           2    Male   21                  15                      81\n",
       "2           3  Female   20                  16                       6\n",
       "3           4  Female   23                  16                      77\n",
       "4           5  Female   31                  17                      40"
      ]
     },
     "execution_count": 22,
     "metadata": {},
     "output_type": "execute_result"
    }
   ],
   "source": [
    "data = pd.read_csv(\"Mall_Customers.csv\")\n",
    "data.head()"
   ]
  },
  {
   "cell_type": "code",
   "execution_count": 23,
   "id": "0d655912",
   "metadata": {},
   "outputs": [
    {
     "data": {
      "image/png": "[encoded data removed]",
      "text/plain": [
       "<Figure size 640x480 with 1 Axes>"
      ]
     },
     "metadata": {},
     "output_type": "display_data"
    },
    {
     "ename": "NameError",
     "evalue": "name 'KMedoids' is not defined",
     "output_type": "error",
     "traceback": [
      "\u001b[31m---------------------------------------------------------------------------\u001b[39m",
      "\u001b[31mNameError\u001b[39m                                 Traceback (most recent call last)",
      "\u001b[36mCell\u001b[39m\u001b[36m \u001b[39m\u001b[32mIn[23]\u001b[39m\u001b[32m, line 9\u001b[39m\n\u001b[32m      7\u001b[39m \u001b[38;5;66;03m# Apply K-Medoids clustering\u001b[39;00m\n\u001b[32m      8\u001b[39m k = \u001b[32m3\u001b[39m\n\u001b[32m----> \u001b[39m\u001b[32m9\u001b[39m kmedoids = \u001b[43mKMedoids\u001b[49m(n_clusters=k, metric=\u001b[33m'\u001b[39m\u001b[33meuclidean\u001b[39m\u001b[33m'\u001b[39m, random_state=\u001b[32m42\u001b[39m)\n\u001b[32m     10\u001b[39m kmedoids.fit(X)\n\u001b[32m     11\u001b[39m \u001b[38;5;66;03m# Get cluster labels and medoids\u001b[39;00m\n",
      "\u001b[31mNameError\u001b[39m: name 'KMedoids' is not defined"
     ]
    }
   ],
   "source": [
    "# Generate synthetic data\n",
    "X, _ = make_blobs(n_samples=300, centers=3, cluster_std=1.05, random_state=42)\n",
    "# Visualizing raw data\n",
    "plt.scatter(X[:, 0], X[:, 1], s=50, c='gray', alpha=0.5)\n",
    "plt.title(\"Raw Data Distribution\")\n",
    "plt.show()\n",
    "# Apply K-Medoids clustering\n",
    "k = 3\n",
    "kmedoids = KMedoids(n_clusters=k, metric='euclidean', random_state=42)\n",
    "kmedoids.fit(X)\n",
    "# Get cluster labels and medoids\n",
    "labels = kmedoids.labels_\n",
    "medoids = kmedoids.cluster_centers_\n",
    "# Plot clustered data\n",
    "plt.scatter(X[:, 0], X[:, 1], c=labels, cmap='viridis', alpha=0.6)\n",
    "plt.scatter(medoids[:, 0], medoids[:, 1], c='red', marker='X', s=200, label='Medoids')\n",
    "plt.title(\"K-Medoids Clustering\")\n",
    "plt.legend()\n",
    "plt.show()"
   ]
  },
  {
   "cell_type": "code",
   "execution_count": 26,
   "id": "a2aed720",
   "metadata": {},
   "outputs": [
    {
     "name": "stdout",
     "output_type": "stream",
     "text": [
      "Collecting numpy<2.0\n",
      "  Using cached numpy-1.26.4.tar.gz (15.8 MB)\n",
      "  Installing build dependencies: started\n",
      "  Installing build dependencies: finished with status 'done'\n",
      "  Getting requirements to build wheel: started\n",
      "  Getting requirements to build wheel: finished with status 'done'\n",
      "  Installing backend dependencies: started\n",
      "  Installing backend dependencies: finished with status 'done'\n",
      "  Preparing metadata (pyproject.toml): started\n",
      "  Preparing metadata (pyproject.toml): finished with status 'error'\n",
      "Note: you may need to restart the kernel to use updated packages.\n"
     ]
    },
    {
     "name": "stderr",
     "output_type": "stream",
     "text": [
      "  error: subprocess-exited-with-error\n",
      "  \n",
      "  × Preparing metadata (pyproject.toml) did not run successfully.\n",
      "  │ exit code: 1\n",
      "  ╰─> [21 lines of output]\n",
      "      + c:\\Users\\Ruchika Bhingare\\AppData\\Local\\Programs\\Python\\Python313\\python.exe C:\\Users\\Ruchika Bhingare\\AppData\\Local\\Temp\\pip-install-ig7w__ex\\numpy_09f60586943e4ff6acc67c27dda5f2ba\\vendored-meson\\meson\\meson.py setup C:\\Users\\Ruchika Bhingare\\AppData\\Local\\Temp\\pip-install-ig7w__ex\\numpy_09f60586943e4ff6acc67c27dda5f2ba C:\\Users\\Ruchika Bhingare\\AppData\\Local\\Temp\\pip-install-ig7w__ex\\numpy_09f60586943e4ff6acc67c27dda5f2ba\\.mesonpy-az09cu7u -Dbuildtype=release -Db_ndebug=if-release -Db_vscrt=md --native-file=C:\\Users\\Ruchika Bhingare\\AppData\\Local\\Temp\\pip-install-ig7w__ex\\numpy_09f60586943e4ff6acc67c27dda5f2ba\\.mesonpy-az09cu7u\\meson-python-native-file.ini\n",
      "      The Meson build system\n",
      "      Version: 1.2.99\n",
      "      Source dir: C:\\Users\\Ruchika Bhingare\\AppData\\Local\\Temp\\pip-install-ig7w__ex\\numpy_09f60586943e4ff6acc67c27dda5f2ba\n",
      "      Build dir: C:\\Users\\Ruchika Bhingare\\AppData\\Local\\Temp\\pip-install-ig7w__ex\\numpy_09f60586943e4ff6acc67c27dda5f2ba\\.mesonpy-az09cu7u\n",
      "      Build type: native build\n",
      "      Project name: NumPy\n",
      "      Project version: 1.26.4\n",
      "      WARNING: Failed to activate VS environment: Could not find C:\\Program Files (x86)\\Microsoft Visual Studio\\Installer\\vswhere.exe\n",
      "      \n",
      "      ..\\meson.build:1:0: ERROR: Unknown compiler(s): [['icl'], ['cl'], ['cc'], ['gcc'], ['clang'], ['clang-cl'], ['pgcc']]\n",
      "      The following exception(s) were encountered:\n",
      "      Running `icl \"\"` gave \"[WinError 2] The system cannot find the file specified\"\n",
      "      Running `cl /?` gave \"[WinError 2] The system cannot find the file specified\"\n",
      "      Running `cc --version` gave \"[WinError 2] The system cannot find the file specified\"\n",
      "      Running `gcc --version` gave \"[WinError 2] The system cannot find the file specified\"\n",
      "      Running `clang --version` gave \"[WinError 2] The system cannot find the file specified\"\n",
      "      Running `clang-cl /?` gave \"[WinError 2] The system cannot find the file specified\"\n",
      "      Running `pgcc --version` gave \"[WinError 2] The system cannot find the file specified\"\n",
      "      \n",
      "      A full log can be found at C:\\Users\\Ruchika Bhingare\\AppData\\Local\\Temp\\pip-install-ig7w__ex\\numpy_09f60586943e4ff6acc67c27dda5f2ba\\.mesonpy-az09cu7u\\meson-logs\\meson-log.txt\n",
      "      [end of output]\n",
      "  \n",
      "  note: This error originates from a subprocess, and is likely not a problem with pip.\n",
      "error: metadata-generation-failed\n",
      "\n",
      "× Encountered error while generating package metadata.\n",
      "╰─> See above for output.\n",
      "\n",
      "note: This is an issue with the package mentioned above, not pip.\n",
      "hint: See above for details.\n"
     ]
    }
   ],
   "source": [
    "pip install \"numpy<2.0\""
   ]
  },
  {
   "cell_type": "code",
   "execution_count": 27,
   "id": "5aa67b52",
   "metadata": {},
   "outputs": [
    {
     "name": "stdout",
     "output_type": "stream",
     "text": [
      "Collecting scikit-learn-extra\n",
      "  Using cached scikit-learn-extra-0.3.0.tar.gz (818 kB)\n",
      "  Installing build dependencies: started\n",
      "  Installing build dependencies: finished with status 'done'\n",
      "  Getting requirements to build wheel: started\n",
      "  Getting requirements to build wheel: finished with status 'done'\n",
      "  Preparing metadata (pyproject.toml): started\n",
      "  Preparing metadata (pyproject.toml): finished with status 'done'\n",
      "Requirement already satisfied: numpy>=1.13.3 in c:\\users\\ruchika bhingare\\appdata\\local\\programs\\python\\python313\\lib\\site-packages (from scikit-learn-extra) (2.3.2)\n",
      "Requirement already satisfied: scipy>=0.19.1 in c:\\users\\ruchika bhingare\\appdata\\local\\programs\\python\\python313\\lib\\site-packages (from scikit-learn-extra) (1.16.1)\n",
      "Requirement already satisfied: scikit-learn>=0.23.0 in c:\\users\\ruchika bhingare\\appdata\\local\\programs\\python\\python313\\lib\\site-packages (from scikit-learn-extra) (1.7.1)\n",
      "Requirement already satisfied: joblib>=1.2.0 in c:\\users\\ruchika bhingare\\appdata\\local\\programs\\python\\python313\\lib\\site-packages (from scikit-learn>=0.23.0->scikit-learn-extra) (1.5.1)\n",
      "Requirement already satisfied: threadpoolctl>=3.1.0 in c:\\users\\ruchika bhingare\\appdata\\local\\programs\\python\\python313\\lib\\site-packages (from scikit-learn>=0.23.0->scikit-learn-extra) (3.6.0)\n",
      "Building wheels for collected packages: scikit-learn-extra\n",
      "  Building wheel for scikit-learn-extra (pyproject.toml): started\n",
      "  Building wheel for scikit-learn-extra (pyproject.toml): finished with status 'error'\n",
      "Failed to build scikit-learn-extra\n",
      "Note: you may need to restart the kernel to use updated packages.\n"
     ]
    },
    {
     "name": "stderr",
     "output_type": "stream",
     "text": [
      "  error: subprocess-exited-with-error\n",
      "  \n",
      "  × Building wheel for scikit-learn-extra (pyproject.toml) did not run successfully.\n",
      "  │ exit code: 1\n",
      "  ╰─> [74 lines of output]\n",
      "      C:\\Users\\Ruchika Bhingare\\AppData\\Local\\Temp\\pip-build-env-vx_p7k8w\\overlay\\Lib\\site-packages\\setuptools\\dist.py:599: SetuptoolsDeprecationWarning: Invalid dash-separated key 'description-file' in 'metadata' (setup.cfg), please use the underscore name 'description_file' instead.\n",
      "      !!\n",
      "      \n",
      "              ********************************************************************************\n",
      "              Usage of dash-separated 'description-file' will not be supported in future\n",
      "              versions. Please use the underscore name 'description_file' instead.\n",
      "              (Affected: scikit-learn-extra).\n",
      "      \n",
      "              By 2026-Mar-03, you need to update your project and remove deprecated calls\n",
      "              or your builds will no longer be supported.\n",
      "      \n",
      "              See https://setuptools.pypa.io/en/latest/userguide/declarative_config.html for details.\n",
      "              ********************************************************************************\n",
      "      \n",
      "      !!\n",
      "        opt = self._enforce_underscore(opt, section)\n",
      "      C:\\Users\\Ruchika Bhingare\\AppData\\Local\\Temp\\pip-build-env-vx_p7k8w\\overlay\\Lib\\site-packages\\setuptools\\dist.py:759: SetuptoolsDeprecationWarning: License classifiers are deprecated.\n",
      "      !!\n",
      "      \n",
      "              ********************************************************************************\n",
      "              Please consider removing the following classifiers in favor of a SPDX license expression:\n",
      "      \n",
      "              License :: OSI Approved\n",
      "      \n",
      "              See https://packaging.python.org/en/latest/guides/writing-pyproject-toml/#license for details.\n",
      "              ********************************************************************************\n",
      "      \n",
      "      !!\n",
      "        self._finalize_license_expression()\n",
      "      running bdist_wheel\n",
      "      running build\n",
      "      running build_py\n",
      "      creating build\\lib.win-amd64-cpython-313\\benchmarks\n",
      "      copying benchmarks\\bench_rbfsampler_fastfood.py -> build\\lib.win-amd64-cpython-313\\benchmarks\n",
      "      copying benchmarks\\__init__.py -> build\\lib.win-amd64-cpython-313\\benchmarks\n",
      "      creating build\\lib.win-amd64-cpython-313\\sklearn_extra\n",
      "      copying sklearn_extra\\_version.py -> build\\lib.win-amd64-cpython-313\\sklearn_extra\n",
      "      copying sklearn_extra\\__init__.py -> build\\lib.win-amd64-cpython-313\\sklearn_extra\n",
      "      creating build\\lib.win-amd64-cpython-313\\benchmarks\\_bench\n",
      "      copying benchmarks\\_bench\\eigenpro_plot_mnist.py -> build\\lib.win-amd64-cpython-313\\benchmarks\\_bench\n",
      "      copying benchmarks\\_bench\\eigenpro_plot_noisy_mnist.py -> build\\lib.win-amd64-cpython-313\\benchmarks\\_bench\n",
      "      copying benchmarks\\_bench\\eigenpro_plot_synthetic.py -> build\\lib.win-amd64-cpython-313\\benchmarks\\_bench\n",
      "      copying benchmarks\\_bench\\robust_plot_synthetic.py -> build\\lib.win-amd64-cpython-313\\benchmarks\\_bench\n",
      "      copying benchmarks\\_bench\\__init__.py -> build\\lib.win-amd64-cpython-313\\benchmarks\\_bench\n",
      "      creating build\\lib.win-amd64-cpython-313\\sklearn_extra\\cluster\n",
      "      copying sklearn_extra\\cluster\\_commonnn.py -> build\\lib.win-amd64-cpython-313\\sklearn_extra\\cluster\n",
      "      copying sklearn_extra\\cluster\\_k_medoids.py -> build\\lib.win-amd64-cpython-313\\sklearn_extra\\cluster\n",
      "      copying sklearn_extra\\cluster\\__init__.py -> build\\lib.win-amd64-cpython-313\\sklearn_extra\\cluster\n",
      "      creating build\\lib.win-amd64-cpython-313\\sklearn_extra\\kernel_approximation\n",
      "      copying sklearn_extra\\kernel_approximation\\test_fastfood.py -> build\\lib.win-amd64-cpython-313\\sklearn_extra\\kernel_approximation\n",
      "      copying sklearn_extra\\kernel_approximation\\_fastfood.py -> build\\lib.win-amd64-cpython-313\\sklearn_extra\\kernel_approximation\n",
      "      copying sklearn_extra\\kernel_approximation\\__init__.py -> build\\lib.win-amd64-cpython-313\\sklearn_extra\\kernel_approximation\n",
      "      creating build\\lib.win-amd64-cpython-313\\sklearn_extra\\kernel_methods\n",
      "      copying sklearn_extra\\kernel_methods\\_eigenpro.py -> build\\lib.win-amd64-cpython-313\\sklearn_extra\\kernel_methods\n",
      "      copying sklearn_extra\\kernel_methods\\__init__.py -> build\\lib.win-amd64-cpython-313\\sklearn_extra\\kernel_methods\n",
      "      creating build\\lib.win-amd64-cpython-313\\sklearn_extra\\robust\n",
      "      copying sklearn_extra\\robust\\mean_estimators.py -> build\\lib.win-amd64-cpython-313\\sklearn_extra\\robust\n",
      "      copying sklearn_extra\\robust\\robust_weighted_estimator.py -> build\\lib.win-amd64-cpython-313\\sklearn_extra\\robust\n",
      "      copying sklearn_extra\\robust\\__init__.py -> build\\lib.win-amd64-cpython-313\\sklearn_extra\\robust\n",
      "      creating build\\lib.win-amd64-cpython-313\\sklearn_extra\\tests\n",
      "      copying sklearn_extra\\tests\\test_common.py -> build\\lib.win-amd64-cpython-313\\sklearn_extra\\tests\n",
      "      copying sklearn_extra\\tests\\__init__.py -> build\\lib.win-amd64-cpython-313\\sklearn_extra\\tests\n",
      "      creating build\\lib.win-amd64-cpython-313\\sklearn_extra\\cluster\\tests\n",
      "      copying sklearn_extra\\cluster\\tests\\test_commonnn.py -> build\\lib.win-amd64-cpython-313\\sklearn_extra\\cluster\\tests\n",
      "      copying sklearn_extra\\cluster\\tests\\test_k_medoids.py -> build\\lib.win-amd64-cpython-313\\sklearn_extra\\cluster\\tests\n",
      "      copying sklearn_extra\\cluster\\tests\\__init__.py -> build\\lib.win-amd64-cpython-313\\sklearn_extra\\cluster\\tests\n",
      "      creating build\\lib.win-amd64-cpython-313\\sklearn_extra\\kernel_approximation\\tests\n",
      "      copying sklearn_extra\\kernel_approximation\\tests\\__init__.py -> build\\lib.win-amd64-cpython-313\\sklearn_extra\\kernel_approximation\\tests\n",
      "      creating build\\lib.win-amd64-cpython-313\\sklearn_extra\\kernel_methods\\tests\n",
      "      copying sklearn_extra\\kernel_methods\\tests\\test_eigenpro.py -> build\\lib.win-amd64-cpython-313\\sklearn_extra\\kernel_methods\\tests\n",
      "      copying sklearn_extra\\kernel_methods\\tests\\__init__.py -> build\\lib.win-amd64-cpython-313\\sklearn_extra\\kernel_methods\\tests\n",
      "      running build_ext\n",
      "      building 'sklearn_extra.utils._cyfht' extension\n",
      "      error: Microsoft Visual C++ 14.0 or greater is required. Get it with \"Microsoft C++ Build Tools\": https://visualstudio.microsoft.com/visual-cpp-build-tools/\n",
      "      [end of output]\n",
      "  \n",
      "  note: This error originates from a subprocess, and is likely not a problem with pip.\n",
      "  ERROR: Failed building wheel for scikit-learn-extra\n",
      "error: failed-wheel-build-for-install\n",
      "\n",
      "× Failed to build installable wheels for some pyproject.toml based projects\n",
      "╰─> scikit-learn-extra\n"
     ]
    }
   ],
   "source": [
    "pip install scikit-learn-extra\n"
   ]
  },
  {
   "cell_type": "code",
   "execution_count": 31,
   "id": "6960478a",
   "metadata": {},
   "outputs": [
    {
     "ename": "ModuleNotFoundError",
     "evalue": "No module named 'sklearn_extra'",
     "output_type": "error",
     "traceback": [
      "\u001b[31m---------------------------------------------------------------------------\u001b[39m",
      "\u001b[31mModuleNotFoundError\u001b[39m                       Traceback (most recent call last)",
      "\u001b[36mCell\u001b[39m\u001b[36m \u001b[39m\u001b[32mIn[31]\u001b[39m\u001b[32m, line 1\u001b[39m\n\u001b[32m----> \u001b[39m\u001b[32m1\u001b[39m \u001b[38;5;28;01mfrom\u001b[39;00m\u001b[38;5;250m \u001b[39m\u001b[34;01msklearn_extra\u001b[39;00m\u001b[34;01m.\u001b[39;00m\u001b[34;01mcluster\u001b[39;00m\u001b[38;5;250m \u001b[39m\u001b[38;5;28;01mimport\u001b[39;00m KMedoids\n",
      "\u001b[31mModuleNotFoundError\u001b[39m: No module named 'sklearn_extra'"
     ]
    }
   ],
   "source": [
    "from sklearn_extra.cluster import KMedoids"
   ]
  },
  {
   "cell_type": "code",
   "execution_count": 28,
   "id": "ecd60b76",
   "metadata": {},
   "outputs": [
    {
     "data": {
      "image/png": "[encoded data removed]",
      "text/plain": [
       "<Figure size 640x480 with 1 Axes>"
      ]
     },
     "metadata": {},
     "output_type": "display_data"
    },
    {
     "ename": "NameError",
     "evalue": "name 'KMedoids' is not defined",
     "output_type": "error",
     "traceback": [
      "\u001b[31m---------------------------------------------------------------------------\u001b[39m",
      "\u001b[31mNameError\u001b[39m                                 Traceback (most recent call last)",
      "\u001b[36mCell\u001b[39m\u001b[36m \u001b[39m\u001b[32mIn[28]\u001b[39m\u001b[32m, line 9\u001b[39m\n\u001b[32m      7\u001b[39m \u001b[38;5;66;03m# Apply K-Medoids clustering\u001b[39;00m\n\u001b[32m      8\u001b[39m k = \u001b[32m3\u001b[39m\n\u001b[32m----> \u001b[39m\u001b[32m9\u001b[39m kmedoids = \u001b[43mKMedoids\u001b[49m(n_clusters=k, metric=\u001b[33m'\u001b[39m\u001b[33meuclidean\u001b[39m\u001b[33m'\u001b[39m, random_state=\u001b[32m42\u001b[39m)\n\u001b[32m     10\u001b[39m kmedoids.fit(X)\n\u001b[32m     11\u001b[39m \u001b[38;5;66;03m# Get cluster labels and medoids\u001b[39;00m\n",
      "\u001b[31mNameError\u001b[39m: name 'KMedoids' is not defined"
     ]
    }
   ],
   "source": [
    "# Generate synthetic data\n",
    "X, _ = make_blobs(n_samples=300, centers=3, cluster_std=1.05, random_state=42)\n",
    "# Visualizing raw data\n",
    "plt.scatter(X[:, 0], X[:, 1], s=50, c='gray', alpha=0.5)\n",
    "plt.title(\"Raw Data Distribution\")\n",
    "plt.show()\n",
    "# Apply K-Medoids clustering\n",
    "k = 3\n",
    "kmedoids = KMedoids(n_clusters=k, metric='euclidean', random_state=42)\n",
    "kmedoids.fit(X)\n",
    "# Get cluster labels and medoids\n",
    "labels = kmedoids.labels_\n",
    "medoids = kmedoids.cluster_centers_\n",
    "# Plot clustered data\n",
    "plt.scatter(X[:, 0], X[:, 1], c=labels, cmap='viridis', alpha=0.6)\n",
    "plt.scatter(medoids[:, 0], medoids[:, 1], c='red', marker='X', s=200, label='Medoids')\n",
    "plt.title(\"K-Medoids Clustering\")\n",
    "plt.legend()\n",
    "plt.show()"
   ]
  },
  {
   "cell_type": "code",
   "execution_count": 32,
   "id": "e6cc9aa1",
   "metadata": {},
   "outputs": [],
   "source": [
    "from sklearn.metrics import silhouette_score"
   ]
  },
  {
   "cell_type": "code",
   "execution_count": 33,
   "id": "6a41923a",
   "metadata": {},
   "outputs": [
    {
     "ename": "NameError",
     "evalue": "name 'KMedoids' is not defined",
     "output_type": "error",
     "traceback": [
      "\u001b[31m---------------------------------------------------------------------------\u001b[39m",
      "\u001b[31mNameError\u001b[39m                                 Traceback (most recent call last)",
      "\u001b[36mCell\u001b[39m\u001b[36m \u001b[39m\u001b[32mIn[33]\u001b[39m\u001b[32m, line 5\u001b[39m\n\u001b[32m      3\u001b[39m k_values = \u001b[38;5;28mrange\u001b[39m(\u001b[32m2\u001b[39m, \u001b[32m10\u001b[39m)\n\u001b[32m      4\u001b[39m \u001b[38;5;28;01mfor\u001b[39;00m k \u001b[38;5;129;01min\u001b[39;00m k_values:\n\u001b[32m----> \u001b[39m\u001b[32m5\u001b[39m     kmedoids = \u001b[43mKMedoids\u001b[49m(n_clusters=k, metric=\u001b[33m'\u001b[39m\u001b[33meuclidean\u001b[39m\u001b[33m'\u001b[39m, random_state=\u001b[32m42\u001b[39m)\n\u001b[32m      6\u001b[39m     kmedoids.fit(X)\n\u001b[32m      7\u001b[39m     costs.append(kmedoids.inertia_)  \u001b[38;5;66;03m# Inertia: total distance from medoids\u001b[39;00m\n",
      "\u001b[31mNameError\u001b[39m: name 'KMedoids' is not defined"
     ]
    }
   ],
   "source": [
    "costs = []\n",
    "sil_scores = []\n",
    "k_values = range(2, 10)\n",
    "for k in k_values:\n",
    "    kmedoids = KMedoids(n_clusters=k, metric='euclidean', random_state=42)\n",
    "    kmedoids.fit(X)\n",
    "    costs.append(kmedoids.inertia_)  # Inertia: total distance from medoids\n",
    "    sil_scores.append(silhouette_score(X, kmedoids.labels_))\n",
    "# Plot Elbow Method\n",
    "plt.plot(k_values, costs, marker='o', linestyle='--')\n",
    "plt.xlabel(\"Number of Clusters (K)\")\n",
    "plt.ylabel(\"Total Cost (Inertia)\")\n",
    "plt.title(\"Elbow Method for Optimal K\")\n",
    "plt.show()\n",
    "# Plot Silhouette Score\n",
    "plt.plot(k_values, sil_scores, marker='o', linestyle='--', color='red')\n",
    "plt.xlabel(\"Number of Clusters (K)\")\n",
    "plt.ylabel(\"Silhouette Score\")\n",
    "plt.title(\"Silhouette Score Analysis\")\n",
    "plt.show()"
   ]
  },
  {
   "cell_type": "code",
   "execution_count": null,
   "id": "4fbb2f47",
   "metadata": {},
   "outputs": [],
   "source": []
  }
 ],
 "metadata": {
  "kernelspec": {
   "display_name": "Python 3",
   "language": "python",
   "name": "python3"
  },
  "language_info": {
   "codemirror_mode": {
    "name": "ipython",
    "version": 3
   },
   "file_extension": ".py",
   "mimetype": "text/x-python",
   "name": "python",
   "nbconvert_exporter": "python",
   "pygments_lexer": "ipython3",
   "version": "3.13.5"
  }
 },
 "nbformat": 4,
 "nbformat_minor": 5
}
